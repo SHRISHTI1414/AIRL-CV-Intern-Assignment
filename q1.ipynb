{
  "nbformat": 4,
  "nbformat_minor": 0,
  "metadata": {
    "colab": {
      "provenance": [],
      "authorship_tag": "ABX9TyNiY5FipfUZrH0FpxwAEmli",
      "include_colab_link": true
    },
    "kernelspec": {
      "name": "python3",
      "display_name": "Python 3"
    },
    "language_info": {
      "name": "python"
    }
  },
  "cells": [
    {
      "cell_type": "markdown",
      "metadata": {
        "id": "view-in-github",
        "colab_type": "text"
      },
      "source": [
        "<a href=\"https://colab.research.google.com/github/SHRISHTI1414/AIRL-CV-Intern-Assignment/blob/main/q1.ipynb\" target=\"_parent\"><img src=\"https://colab.research.google.com/assets/colab-badge.svg\" alt=\"Open In Colab\"/></a>"
      ]
    },
    {
      "cell_type": "code",
      "execution_count": null,
      "metadata": {
        "colab": {
          "base_uri": "https://localhost:8080/"
        },
        "id": "pNnU3kFDkpK7",
        "outputId": "f014a07a-be63-467d-b5ac-d92a043ef60b"
      },
      "outputs": [
        {
          "metadata": {
            "tags": null
          },
          "name": "stdout",
          "output_type": "stream",
          "text": [
            "Running on: cpu\n"
          ]
        }
      ],
      "source": [
         
        "Q1: Vision Transformer on CIFAR-10\n",
        "Author: Shrishti Yadav\n",
       
        "\n",
        "!pip install torch torchvision timm -q\n",
        "\n",
        "import torch, torch.nn as nn, torch.optim as optim\n",
        "from torchvision import datasets, transforms\n",
        "from torch.utils.data import DataLoader\n",
        "import timm, time\n",
        "\n",
        "device = torch.device(\"cuda\" if torch.cuda.is_available() else \"cpu\")\n",
        "print(\"Running on:\", device)\n",
        "\n",
         
        "1. Data loading & transforms\n",
        
        "transform = transforms.Compose([\n",
        "    transforms.Resize((224, 224)),\n",
        "    transforms.RandomHorizontalFlip(),\n",
        "    transforms.ToTensor(),\n",
        "    transforms.Normalize((0.5,), (0.5,))\n",
        "])\n",
        "\n",
        "train_data = datasets.CIFAR10(root=\"./data\", train=True, download=True, transform=transform)\n",
        "test_data  = datasets.CIFAR10(root=\"./data\", train=False, download=True, transform=transform)\n",
        "\n",
        "train_loader = DataLoader(train_data, batch_size=64, shuffle=True)\n",
        "test_loader  = DataLoader(test_data,  batch_size=64, shuffle=False)\n",
        "\n",
        
        " 2. Model: Vision Transformer\n",
        
        "model = timm.create_model(\"vit_tiny_patch16_224\", pretrained=False, num_classes=10)\n",
        "model.to(device)\n",
        "\n",
         
        " 3. Training setup\n",
        
        "criterion = nn.CrossEntropyLoss()\n",
        "optimizer = optim.Adam(model.parameters(), lr=1e-4)\n",
        "epochs = 2        # small run for testing\n",
        "\n",
        "start = time.time()\n",
        "for ep in range(epochs):\n",
        "    model.train()\n",
        "    total_loss = 0\n",
        "    for imgs, labels in train_loader:\n",
        "        imgs, labels = imgs.to(device), labels.to(device)\n",
        "        optimizer.zero_grad()\n",
        "        out = model(imgs)\n",
        "        loss = criterion(out, labels)\n",
        "        loss.backward()\n",
        "        optimizer.step()\n",
        "        total_loss += loss.item()\n",
        "    print(f\"Epoch {ep+1}/{epochs} | Loss: {total_loss/len(train_loader):.4f}\")\n",
        "print(\"Training done in\", round((time.time()-start)/60,2), \"min\")\n",
        "\n",
        
        "4. Evaluation\n",
         
        "model.eval()\n",
        "correct, total = 0, 0\n",
        "with torch.no_grad():\n",
        "    for imgs, labels in test_loader:\n",
        "        imgs, labels = imgs.to(device), labels.to(device)\n",
        "        out = model(imgs)\n",
        "        _, pred = torch.max(out, 1)\n",
        "        total += labels.size(0)\n",
        "        correct += (pred == labels).sum().item()\n",
        "\n",
        "acc = 100 * correct / total\n",
        "print(f\"Test Accuracy: {acc:.2f}%\")\n",
        "\n",
        "# Save for README use\n",
        "with open(\"vit_results.txt\", \"w\") as f:\n",
        "    f.write(f\"ViT CIFAR-10 accuracy: {acc:.2f}%\")\n"
      ]
    }
  ]
}
